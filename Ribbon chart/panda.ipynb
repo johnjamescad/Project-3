{
 "cells": [
  {
   "cell_type": "code",
   "execution_count": 63,
   "metadata": {},
   "outputs": [],
   "source": [
    "import matplotlib.pyplot as plt\n",
    "import pandas as pd\n",
    "import scipy.stats as linreg\n",
    "import numpy as np\n",
    "import json"
   ]
  },
  {
   "attachments": {},
   "cell_type": "markdown",
   "metadata": {},
   "source": [
    "Opening file for:\n",
    "sea level, co2 emission, temperature and percipitations and store them per decades:\n",
    "Temperature: t_1: 1992-2001; t_2: 2002-2011; t_3: 2012-2021;\n",
    "Percipitations: p_1: 1992-2001; p_2: 2002-2011; p_3: 2012-2021;\n",
    "CO_2: c_1: 1992-2001; c_2: 2002-2011; c_3: 2012-2021;\n",
    "Sea Level: s_1: 1992-2001; s_2: 2002-2011; s_3: 2012-2021; "
   ]
  },
  {
   "cell_type": "code",
   "execution_count": 64,
   "metadata": {},
   "outputs": [
    {
     "name": "stdout",
     "output_type": "stream",
     "text": [
      "[{'Year': 1993, 'CSIRO - Adjusted sea level (inches)': 6.3031496, 'CSIRO - Lower error bound (inches)': 6.04330708, 'CSIRO - Upper error bound (inches)': 6.562992119, 'NOAA - Adjusted sea level (inches)': 6.306781039}, {'Year': 1994, 'CSIRO - Adjusted sea level (inches)': 6.507874009, 'CSIRO - Lower error bound (inches)': 6.24803149, 'CSIRO - Upper error bound (inches)': 6.767716529, 'NOAA - Adjusted sea level (inches)': 6.438651665}, {'Year': 1995, 'CSIRO - Adjusted sea level (inches)': 6.622047237, 'CSIRO - Lower error bound (inches)': 6.362204718, 'CSIRO - Upper error bound (inches)': 6.881889757, 'NOAA - Adjusted sea level (inches)': 6.57674495}, {'Year': 1996, 'CSIRO - Adjusted sea level (inches)': 6.78346456, 'CSIRO - Lower error bound (inches)': 6.523622041, 'CSIRO - Upper error bound (inches)': 7.043307079, 'NOAA - Adjusted sea level (inches)': 6.723710173}, {'Year': 1997, 'CSIRO - Adjusted sea level (inches)': 7.059055111, 'CSIRO - Lower error bound (inches)': 6.799212591, 'CSIRO - Upper error bound (inches)': 7.31889763, 'NOAA - Adjusted sea level (inches)': 6.779514525}, {'Year': 1998, 'CSIRO - Adjusted sea level (inches)': 6.669291332, 'CSIRO - Lower error bound (inches)': 6.401574797, 'CSIRO - Upper error bound (inches)': 6.937007867, 'NOAA - Adjusted sea level (inches)': 6.770265291}, {'Year': 1999, 'CSIRO - Adjusted sea level (inches)': 7.003937001, 'CSIRO - Lower error bound (inches)': 6.736220466, 'CSIRO - Upper error bound (inches)': 7.271653536, 'NOAA - Adjusted sea level (inches)': 6.840497137}, {'Year': 2000, 'CSIRO - Adjusted sea level (inches)': 7.055118103, 'CSIRO - Lower error bound (inches)': 6.787401568, 'CSIRO - Upper error bound (inches)': 7.322834638, 'NOAA - Adjusted sea level (inches)': 6.919122465}, {'Year': 2001, 'CSIRO - Adjusted sea level (inches)': 7.271653536, 'CSIRO - Lower error bound (inches)': 7.007874009, 'CSIRO - Upper error bound (inches)': 7.535433063, 'NOAA - Adjusted sea level (inches)': 7.116325549}, {'Year': 2002, 'CSIRO - Adjusted sea level (inches)': 7.366141725, 'CSIRO - Lower error bound (inches)': 7.09842519, 'CSIRO - Upper error bound (inches)': 7.63385826, 'NOAA - Adjusted sea level (inches)': 7.258223788}, {'Year': 2003, 'CSIRO - Adjusted sea level (inches)': 7.728346449, 'CSIRO - Lower error bound (inches)': 7.456692906, 'CSIRO - Upper error bound (inches)': 7.999999992, 'NOAA - Adjusted sea level (inches)': 7.410511627}, {'Year': 2004, 'CSIRO - Adjusted sea level (inches)': 7.712598417, 'CSIRO - Lower error bound (inches)': 7.440944874, 'CSIRO - Upper error bound (inches)': 7.98425196, 'NOAA - Adjusted sea level (inches)': 7.465565214}, {'Year': 2005, 'CSIRO - Adjusted sea level (inches)': 7.716535425, 'CSIRO - Lower error bound (inches)': 7.44881889, 'CSIRO - Upper error bound (inches)': 7.98425196, 'NOAA - Adjusted sea level (inches)': 7.566645782}, {'Year': 2006, 'CSIRO - Adjusted sea level (inches)': 7.885826764, 'CSIRO - Lower error bound (inches)': 7.618110228, 'CSIRO - Upper error bound (inches)': 8.153543299, 'NOAA - Adjusted sea level (inches)': 7.678404507}, {'Year': 2007, 'CSIRO - Adjusted sea level (inches)': 7.960629913, 'CSIRO - Lower error bound (inches)': 7.681102354, 'CSIRO - Upper error bound (inches)': 8.240157472, 'NOAA - Adjusted sea level (inches)': 7.674412818}, {'Year': 2008, 'CSIRO - Adjusted sea level (inches)': 8.303149598, 'CSIRO - Lower error bound (inches)': 8.035433063, 'CSIRO - Upper error bound (inches)': 8.570866133, 'NOAA - Adjusted sea level (inches)': 7.828383728}, {'Year': 2009, 'CSIRO - Adjusted sea level (inches)': 8.531496054, 'CSIRO - Lower error bound (inches)': 8.259842511, 'CSIRO - Upper error bound (inches)': 8.803149597, 'NOAA - Adjusted sea level (inches)': 7.973212968}, {'Year': 2010, 'CSIRO - Adjusted sea level (inches)': 8.83464566, 'CSIRO - Lower error bound (inches)': 8.555118102, 'CSIRO - Upper error bound (inches)': 9.114173219, 'NOAA - Adjusted sea level (inches)': 8.03087412}, {'Year': 2011, 'CSIRO - Adjusted sea level (inches)': 8.897637786, 'CSIRO - Lower error bound (inches)': 8.602362196, 'CSIRO - Upper error bound (inches)': 9.192913376, 'NOAA - Adjusted sea level (inches)': 7.966928207}, {'Year': 2012, 'CSIRO - Adjusted sea level (inches)': 9.244094479, 'CSIRO - Lower error bound (inches)': 8.917322826, 'CSIRO - Upper error bound (inches)': 9.570866132, 'NOAA - Adjusted sea level (inches)': 8.362109902}, {'Year': 2013, 'CSIRO - Adjusted sea level (inches)': 8.913385818, 'CSIRO - Lower error bound (inches)': 8.562992117, 'CSIRO - Upper error bound (inches)': 9.263779518, 'NOAA - Adjusted sea level (inches)': 8.453537927}, {'Year': 2014, 'CSIRO - Adjusted sea level (inches)': '', 'CSIRO - Lower error bound (inches)': '', 'CSIRO - Upper error bound (inches)': '', 'NOAA - Adjusted sea level (inches)': 8.579036068}, {'Year': 2015, 'CSIRO - Adjusted sea level (inches)': '', 'CSIRO - Lower error bound (inches)': '', 'CSIRO - Upper error bound (inches)': '', 'NOAA - Adjusted sea level (inches)': 8.92498423}, {'Year': 2016, 'CSIRO - Adjusted sea level (inches)': '', 'CSIRO - Lower error bound (inches)': '', 'CSIRO - Upper error bound (inches)': '', 'NOAA - Adjusted sea level (inches)': 9.048398764}, {'Year': 2017, 'CSIRO - Adjusted sea level (inches)': '', 'CSIRO - Lower error bound (inches)': '', 'CSIRO - Upper error bound (inches)': '', 'NOAA - Adjusted sea level (inches)': 9.11098598}, {'Year': 2018, 'CSIRO - Adjusted sea level (inches)': '', 'CSIRO - Lower error bound (inches)': '', 'CSIRO - Upper error bound (inches)': '', 'NOAA - Adjusted sea level (inches)': 9.234520538}, {'Year': 2019, 'CSIRO - Adjusted sea level (inches)': '', 'CSIRO - Lower error bound (inches)': '', 'CSIRO - Upper error bound (inches)': '', 'NOAA - Adjusted sea level (inches)': 9.480222637}, {'Year': 2020, 'CSIRO - Adjusted sea level (inches)': '', 'CSIRO - Lower error bound (inches)': '', 'CSIRO - Upper error bound (inches)': '', 'NOAA - Adjusted sea level (inches)': 9.592476574}, {'Year': 2021, 'CSIRO - Adjusted sea level (inches)': '', 'CSIRO - Lower error bound (inches)': '', 'CSIRO - Upper error bound (inches)': '', 'NOAA - Adjusted sea level (inches)': 9.797220121}]\n"
     ]
    }
   ],
   "source": [
    "f = open('seaLevelData.js', encoding='utf-8')\n",
    "sea=json.load(f)\n",
    "print(sea)"
   ]
  },
  {
   "cell_type": "code",
   "execution_count": 65,
   "metadata": {},
   "outputs": [
    {
     "data": {
      "text/html": [
       "<div>\n",
       "<style scoped>\n",
       "    .dataframe tbody tr th:only-of-type {\n",
       "        vertical-align: middle;\n",
       "    }\n",
       "\n",
       "    .dataframe tbody tr th {\n",
       "        vertical-align: top;\n",
       "    }\n",
       "\n",
       "    .dataframe thead th {\n",
       "        text-align: right;\n",
       "    }\n",
       "</style>\n",
       "<table border=\"1\" class=\"dataframe\">\n",
       "  <thead>\n",
       "    <tr style=\"text-align: right;\">\n",
       "      <th></th>\n",
       "      <th>Year</th>\n",
       "      <th>CSIRO - Adjusted sea level (inches)</th>\n",
       "      <th>CSIRO - Lower error bound (inches)</th>\n",
       "      <th>CSIRO - Upper error bound (inches)</th>\n",
       "      <th>NOAA - Adjusted sea level (inches)</th>\n",
       "    </tr>\n",
       "  </thead>\n",
       "  <tbody>\n",
       "    <tr>\n",
       "      <th>0</th>\n",
       "      <td>1993</td>\n",
       "      <td>6.30315</td>\n",
       "      <td>6.043307</td>\n",
       "      <td>6.562992</td>\n",
       "      <td>6.306781</td>\n",
       "    </tr>\n",
       "    <tr>\n",
       "      <th>1</th>\n",
       "      <td>1994</td>\n",
       "      <td>6.507874</td>\n",
       "      <td>6.248031</td>\n",
       "      <td>6.767717</td>\n",
       "      <td>6.438652</td>\n",
       "    </tr>\n",
       "    <tr>\n",
       "      <th>2</th>\n",
       "      <td>1995</td>\n",
       "      <td>6.622047</td>\n",
       "      <td>6.362205</td>\n",
       "      <td>6.88189</td>\n",
       "      <td>6.576745</td>\n",
       "    </tr>\n",
       "    <tr>\n",
       "      <th>3</th>\n",
       "      <td>1996</td>\n",
       "      <td>6.783465</td>\n",
       "      <td>6.523622</td>\n",
       "      <td>7.043307</td>\n",
       "      <td>6.723710</td>\n",
       "    </tr>\n",
       "    <tr>\n",
       "      <th>4</th>\n",
       "      <td>1997</td>\n",
       "      <td>7.059055</td>\n",
       "      <td>6.799213</td>\n",
       "      <td>7.318898</td>\n",
       "      <td>6.779515</td>\n",
       "    </tr>\n",
       "  </tbody>\n",
       "</table>\n",
       "</div>"
      ],
      "text/plain": [
       "   Year CSIRO - Adjusted sea level (inches)  \\\n",
       "0  1993                             6.30315   \n",
       "1  1994                            6.507874   \n",
       "2  1995                            6.622047   \n",
       "3  1996                            6.783465   \n",
       "4  1997                            7.059055   \n",
       "\n",
       "  CSIRO - Lower error bound (inches) CSIRO - Upper error bound (inches)  \\\n",
       "0                           6.043307                           6.562992   \n",
       "1                           6.248031                           6.767717   \n",
       "2                           6.362205                            6.88189   \n",
       "3                           6.523622                           7.043307   \n",
       "4                           6.799213                           7.318898   \n",
       "\n",
       "   NOAA - Adjusted sea level (inches)  \n",
       "0                            6.306781  \n",
       "1                            6.438652  \n",
       "2                            6.576745  \n",
       "3                            6.723710  \n",
       "4                            6.779515  "
      ]
     },
     "execution_count": 65,
     "metadata": {},
     "output_type": "execute_result"
    }
   ],
   "source": [
    "sea=pd.DataFrame(sea)\n",
    "sea.head()\n"
   ]
  },
  {
   "cell_type": "code",
   "execution_count": 66,
   "metadata": {},
   "outputs": [
    {
     "name": "stdout",
     "output_type": "stream",
     "text": [
      "<class 'pandas.core.frame.DataFrame'>\n",
      "RangeIndex: 29 entries, 0 to 28\n",
      "Data columns (total 5 columns):\n",
      " #   Column                               Non-Null Count  Dtype  \n",
      "---  ------                               --------------  -----  \n",
      " 0   Year                                 29 non-null     int64  \n",
      " 1   CSIRO - Adjusted sea level (inches)  29 non-null     object \n",
      " 2   CSIRO - Lower error bound (inches)   29 non-null     object \n",
      " 3   CSIRO - Upper error bound (inches)   29 non-null     object \n",
      " 4   NOAA - Adjusted sea level (inches)   29 non-null     float64\n",
      "dtypes: float64(1), int64(1), object(3)\n",
      "memory usage: 1.3+ KB\n"
     ]
    }
   ],
   "source": [
    "sea.info()"
   ]
  },
  {
   "cell_type": "code",
   "execution_count": 67,
   "metadata": {},
   "outputs": [
    {
     "data": {
      "text/html": [
       "<div>\n",
       "<style scoped>\n",
       "    .dataframe tbody tr th:only-of-type {\n",
       "        vertical-align: middle;\n",
       "    }\n",
       "\n",
       "    .dataframe tbody tr th {\n",
       "        vertical-align: top;\n",
       "    }\n",
       "\n",
       "    .dataframe thead th {\n",
       "        text-align: right;\n",
       "    }\n",
       "</style>\n",
       "<table border=\"1\" class=\"dataframe\">\n",
       "  <thead>\n",
       "    <tr style=\"text-align: right;\">\n",
       "      <th></th>\n",
       "      <th>Reading_id</th>\n",
       "      <th>Country</th>\n",
       "      <th>Reading_date</th>\n",
       "      <th>CO2_emission</th>\n",
       "    </tr>\n",
       "  </thead>\n",
       "  <tbody>\n",
       "    <tr>\n",
       "      <th>0</th>\n",
       "      <td>1</td>\n",
       "      <td>Afghanistan</td>\n",
       "      <td>1991</td>\n",
       "      <td>1.914</td>\n",
       "    </tr>\n",
       "    <tr>\n",
       "      <th>1</th>\n",
       "      <td>2</td>\n",
       "      <td>Afghanistan</td>\n",
       "      <td>1992</td>\n",
       "      <td>1.482</td>\n",
       "    </tr>\n",
       "    <tr>\n",
       "      <th>2</th>\n",
       "      <td>3</td>\n",
       "      <td>Afghanistan</td>\n",
       "      <td>1993</td>\n",
       "      <td>1.487</td>\n",
       "    </tr>\n",
       "    <tr>\n",
       "      <th>3</th>\n",
       "      <td>4</td>\n",
       "      <td>Afghanistan</td>\n",
       "      <td>1994</td>\n",
       "      <td>1.454</td>\n",
       "    </tr>\n",
       "    <tr>\n",
       "      <th>4</th>\n",
       "      <td>5</td>\n",
       "      <td>Afghanistan</td>\n",
       "      <td>1995</td>\n",
       "      <td>1.417</td>\n",
       "    </tr>\n",
       "  </tbody>\n",
       "</table>\n",
       "</div>"
      ],
      "text/plain": [
       "   Reading_id      Country  Reading_date  CO2_emission\n",
       "0           1  Afghanistan          1991         1.914\n",
       "1           2  Afghanistan          1992         1.482\n",
       "2           3  Afghanistan          1993         1.487\n",
       "3           4  Afghanistan          1994         1.454\n",
       "4           5  Afghanistan          1995         1.417"
      ]
     },
     "execution_count": 67,
     "metadata": {},
     "output_type": "execute_result"
    }
   ],
   "source": [
    "p_year = pd.read_csv('Percipitation_Readings.csv')\n",
    "t_year = pd.read_csv('Temperature_Readings.csv')\n",
    "c_year=pd.read_csv('Final_CO2.csv')\n",
    "c_year.head()\n"
   ]
  },
  {
   "cell_type": "code",
   "execution_count": 68,
   "metadata": {},
   "outputs": [
    {
     "data": {
      "text/html": [
       "<div>\n",
       "<style scoped>\n",
       "    .dataframe tbody tr th:only-of-type {\n",
       "        vertical-align: middle;\n",
       "    }\n",
       "\n",
       "    .dataframe tbody tr th {\n",
       "        vertical-align: top;\n",
       "    }\n",
       "\n",
       "    .dataframe thead th {\n",
       "        text-align: right;\n",
       "    }\n",
       "</style>\n",
       "<table border=\"1\" class=\"dataframe\">\n",
       "  <thead>\n",
       "    <tr style=\"text-align: right;\">\n",
       "      <th></th>\n",
       "      <th>Reading_id</th>\n",
       "      <th>Station_id</th>\n",
       "      <th>Reading_date</th>\n",
       "      <th>Reading_value</th>\n",
       "    </tr>\n",
       "  </thead>\n",
       "  <tbody>\n",
       "    <tr>\n",
       "      <th>0</th>\n",
       "      <td>98001</td>\n",
       "      <td>GHCND:AG000060390</td>\n",
       "      <td>1992-01-01 00:00:00</td>\n",
       "      <td>17.33</td>\n",
       "    </tr>\n",
       "    <tr>\n",
       "      <th>1</th>\n",
       "      <td>98002</td>\n",
       "      <td>GHCND:AG000060590</td>\n",
       "      <td>1992-01-01 00:00:00</td>\n",
       "      <td>21.10</td>\n",
       "    </tr>\n",
       "    <tr>\n",
       "      <th>2</th>\n",
       "      <td>98003</td>\n",
       "      <td>GHCND:AG000060611</td>\n",
       "      <td>1992-01-01 00:00:00</td>\n",
       "      <td>21.45</td>\n",
       "    </tr>\n",
       "    <tr>\n",
       "      <th>3</th>\n",
       "      <td>98004</td>\n",
       "      <td>GHCND:AG000060680</td>\n",
       "      <td>1992-01-01 00:00:00</td>\n",
       "      <td>20.95</td>\n",
       "    </tr>\n",
       "    <tr>\n",
       "      <th>4</th>\n",
       "      <td>98005</td>\n",
       "      <td>GHCND:AJ000037989</td>\n",
       "      <td>1992-01-01 00:00:00</td>\n",
       "      <td>14.27</td>\n",
       "    </tr>\n",
       "  </tbody>\n",
       "</table>\n",
       "</div>"
      ],
      "text/plain": [
       "   Reading_id         Station_id         Reading_date  Reading_value\n",
       "0       98001  GHCND:AG000060390  1992-01-01 00:00:00          17.33\n",
       "1       98002  GHCND:AG000060590  1992-01-01 00:00:00          21.10\n",
       "2       98003  GHCND:AG000060611  1992-01-01 00:00:00          21.45\n",
       "3       98004  GHCND:AG000060680  1992-01-01 00:00:00          20.95\n",
       "4       98005  GHCND:AJ000037989  1992-01-01 00:00:00          14.27"
      ]
     },
     "execution_count": 68,
     "metadata": {},
     "output_type": "execute_result"
    }
   ],
   "source": [
    "t_year.head()"
   ]
  },
  {
   "cell_type": "code",
   "execution_count": 69,
   "metadata": {},
   "outputs": [
    {
     "data": {
      "text/html": [
       "<div>\n",
       "<style scoped>\n",
       "    .dataframe tbody tr th:only-of-type {\n",
       "        vertical-align: middle;\n",
       "    }\n",
       "\n",
       "    .dataframe tbody tr th {\n",
       "        vertical-align: top;\n",
       "    }\n",
       "\n",
       "    .dataframe thead th {\n",
       "        text-align: right;\n",
       "    }\n",
       "</style>\n",
       "<table border=\"1\" class=\"dataframe\">\n",
       "  <thead>\n",
       "    <tr style=\"text-align: right;\">\n",
       "      <th></th>\n",
       "      <th>Reading_id</th>\n",
       "      <th>Country</th>\n",
       "      <th>Reading_date</th>\n",
       "      <th>CO2_emission</th>\n",
       "    </tr>\n",
       "  </thead>\n",
       "  <tbody>\n",
       "    <tr>\n",
       "      <th>21</th>\n",
       "      <td>22</td>\n",
       "      <td>Afghanistan</td>\n",
       "      <td>2012</td>\n",
       "      <td>10.035</td>\n",
       "    </tr>\n",
       "    <tr>\n",
       "      <th>22</th>\n",
       "      <td>23</td>\n",
       "      <td>Afghanistan</td>\n",
       "      <td>2013</td>\n",
       "      <td>9.251</td>\n",
       "    </tr>\n",
       "    <tr>\n",
       "      <th>23</th>\n",
       "      <td>24</td>\n",
       "      <td>Afghanistan</td>\n",
       "      <td>2014</td>\n",
       "      <td>9.170</td>\n",
       "    </tr>\n",
       "    <tr>\n",
       "      <th>24</th>\n",
       "      <td>25</td>\n",
       "      <td>Afghanistan</td>\n",
       "      <td>2015</td>\n",
       "      <td>9.791</td>\n",
       "    </tr>\n",
       "    <tr>\n",
       "      <th>25</th>\n",
       "      <td>26</td>\n",
       "      <td>Afghanistan</td>\n",
       "      <td>2016</td>\n",
       "      <td>9.068</td>\n",
       "    </tr>\n",
       "  </tbody>\n",
       "</table>\n",
       "</div>"
      ],
      "text/plain": [
       "    Reading_id      Country  Reading_date  CO2_emission\n",
       "21          22  Afghanistan          2012        10.035\n",
       "22          23  Afghanistan          2013         9.251\n",
       "23          24  Afghanistan          2014         9.170\n",
       "24          25  Afghanistan          2015         9.791\n",
       "25          26  Afghanistan          2016         9.068"
      ]
     },
     "execution_count": 69,
     "metadata": {},
     "output_type": "execute_result"
    }
   ],
   "source": [
    "c_1=c_year.loc[(c_year['Reading_date']>=1992)&(c_year['Reading_date']<2002),:]\n",
    "c_2=c_year.loc[(c_year['Reading_date']>=2002)&(c_year['Reading_date']<2012),:]\n",
    "c_3=c_year.loc[(c_year['Reading_date']>=2012)&(c_year['Reading_date']<2022),:]\n",
    "c_3.head()"
   ]
  },
  {
   "cell_type": "code",
   "execution_count": 70,
   "metadata": {},
   "outputs": [
    {
     "data": {
      "text/html": [
       "<div>\n",
       "<style scoped>\n",
       "    .dataframe tbody tr th:only-of-type {\n",
       "        vertical-align: middle;\n",
       "    }\n",
       "\n",
       "    .dataframe tbody tr th {\n",
       "        vertical-align: top;\n",
       "    }\n",
       "\n",
       "    .dataframe thead th {\n",
       "        text-align: right;\n",
       "    }\n",
       "</style>\n",
       "<table border=\"1\" class=\"dataframe\">\n",
       "  <thead>\n",
       "    <tr style=\"text-align: right;\">\n",
       "      <th></th>\n",
       "      <th>Reading_id</th>\n",
       "      <th>Station_id</th>\n",
       "      <th>Reading_date</th>\n",
       "      <th>Reading_value</th>\n",
       "    </tr>\n",
       "  </thead>\n",
       "  <tbody>\n",
       "    <tr>\n",
       "      <th>0</th>\n",
       "      <td>98001</td>\n",
       "      <td>GHCND:AG000060390</td>\n",
       "      <td>1992-01-01 00:00:00</td>\n",
       "      <td>17.33</td>\n",
       "    </tr>\n",
       "    <tr>\n",
       "      <th>1</th>\n",
       "      <td>98002</td>\n",
       "      <td>GHCND:AG000060590</td>\n",
       "      <td>1992-01-01 00:00:00</td>\n",
       "      <td>21.10</td>\n",
       "    </tr>\n",
       "    <tr>\n",
       "      <th>2</th>\n",
       "      <td>98003</td>\n",
       "      <td>GHCND:AG000060611</td>\n",
       "      <td>1992-01-01 00:00:00</td>\n",
       "      <td>21.45</td>\n",
       "    </tr>\n",
       "    <tr>\n",
       "      <th>3</th>\n",
       "      <td>98004</td>\n",
       "      <td>GHCND:AG000060680</td>\n",
       "      <td>1992-01-01 00:00:00</td>\n",
       "      <td>20.95</td>\n",
       "    </tr>\n",
       "    <tr>\n",
       "      <th>4</th>\n",
       "      <td>98005</td>\n",
       "      <td>GHCND:AJ000037989</td>\n",
       "      <td>1992-01-01 00:00:00</td>\n",
       "      <td>14.27</td>\n",
       "    </tr>\n",
       "  </tbody>\n",
       "</table>\n",
       "</div>"
      ],
      "text/plain": [
       "   Reading_id         Station_id         Reading_date  Reading_value\n",
       "0       98001  GHCND:AG000060390  1992-01-01 00:00:00          17.33\n",
       "1       98002  GHCND:AG000060590  1992-01-01 00:00:00          21.10\n",
       "2       98003  GHCND:AG000060611  1992-01-01 00:00:00          21.45\n",
       "3       98004  GHCND:AG000060680  1992-01-01 00:00:00          20.95\n",
       "4       98005  GHCND:AJ000037989  1992-01-01 00:00:00          14.27"
      ]
     },
     "execution_count": 70,
     "metadata": {},
     "output_type": "execute_result"
    }
   ],
   "source": [
    "t_year.head()\n"
   ]
  },
  {
   "cell_type": "code",
   "execution_count": 71,
   "metadata": {},
   "outputs": [
    {
     "data": {
      "text/html": [
       "<div>\n",
       "<style scoped>\n",
       "    .dataframe tbody tr th:only-of-type {\n",
       "        vertical-align: middle;\n",
       "    }\n",
       "\n",
       "    .dataframe tbody tr th {\n",
       "        vertical-align: top;\n",
       "    }\n",
       "\n",
       "    .dataframe thead th {\n",
       "        text-align: right;\n",
       "    }\n",
       "</style>\n",
       "<table border=\"1\" class=\"dataframe\">\n",
       "  <thead>\n",
       "    <tr style=\"text-align: right;\">\n",
       "      <th></th>\n",
       "      <th>Reading_id</th>\n",
       "      <th>Station_id</th>\n",
       "      <th>Reading_date</th>\n",
       "      <th>Reading_value</th>\n",
       "    </tr>\n",
       "  </thead>\n",
       "  <tbody>\n",
       "    <tr>\n",
       "      <th>204751</th>\n",
       "      <td>302752</td>\n",
       "      <td>GHCND:AGE00147716</td>\n",
       "      <td>2012-01-01 00:00:00</td>\n",
       "      <td>18.50</td>\n",
       "    </tr>\n",
       "    <tr>\n",
       "      <th>204752</th>\n",
       "      <td>302753</td>\n",
       "      <td>GHCND:AGM00060444</td>\n",
       "      <td>2012-01-01 00:00:00</td>\n",
       "      <td>16.81</td>\n",
       "    </tr>\n",
       "    <tr>\n",
       "      <th>204753</th>\n",
       "      <td>302754</td>\n",
       "      <td>GHCND:AGM00060518</td>\n",
       "      <td>2012-01-01 00:00:00</td>\n",
       "      <td>19.24</td>\n",
       "    </tr>\n",
       "    <tr>\n",
       "      <th>204754</th>\n",
       "      <td>302755</td>\n",
       "      <td>GHCND:AGM00060522</td>\n",
       "      <td>2012-01-01 00:00:00</td>\n",
       "      <td>17.92</td>\n",
       "    </tr>\n",
       "    <tr>\n",
       "      <th>204755</th>\n",
       "      <td>302756</td>\n",
       "      <td>GHCND:AGM00060535</td>\n",
       "      <td>2012-01-01 00:00:00</td>\n",
       "      <td>15.19</td>\n",
       "    </tr>\n",
       "  </tbody>\n",
       "</table>\n",
       "</div>"
      ],
      "text/plain": [
       "        Reading_id         Station_id         Reading_date  Reading_value\n",
       "204751      302752  GHCND:AGE00147716  2012-01-01 00:00:00          18.50\n",
       "204752      302753  GHCND:AGM00060444  2012-01-01 00:00:00          16.81\n",
       "204753      302754  GHCND:AGM00060518  2012-01-01 00:00:00          19.24\n",
       "204754      302755  GHCND:AGM00060522  2012-01-01 00:00:00          17.92\n",
       "204755      302756  GHCND:AGM00060535  2012-01-01 00:00:00          15.19"
      ]
     },
     "execution_count": 71,
     "metadata": {},
     "output_type": "execute_result"
    }
   ],
   "source": [
    "p_1=p_year.loc[(p_year['Reading_date']>='1992-01-01')&(p_year['Reading_date']<'2002-01-01'),:]\n",
    "t_1=t_year.loc[(t_year['Reading_date']>='1992-01-01')&(t_year['Reading_date']<'2002-01-01'),:]\n",
    "p_2=p_year.loc[(p_year['Reading_date']>='2002-01-01')&(p_year['Reading_date']<'2012-01-01'),:]\n",
    "t_2=t_year.loc[(t_year['Reading_date']>='2002-01-01')&(t_year['Reading_date']<'2012-01-01'),:]\n",
    "p_3=p_year.loc[(p_year['Reading_date']>='2012-01-01')&(p_year['Reading_date']<'2022-01-01'),:]\n",
    "t_3=t_year.loc[(t_year['Reading_date']>='2012-01-01')&(t_year['Reading_date']<'2022-01-01'),:]\n",
    "\n",
    "t_3.head()"
   ]
  },
  {
   "cell_type": "code",
   "execution_count": 72,
   "metadata": {},
   "outputs": [],
   "source": [
    "#p_1n=p_1.loc[(pr_1_adj['Value']<8000)]['Value'].values.tolist()\n",
    "#p_2n=p_2['Value'].values.tolist()\n",
    "#p_3n=p_3['Value'].values.tolist()\n",
    "\n",
    "#print(pr_1n)\n"
   ]
  },
  {
   "cell_type": "code",
   "execution_count": 73,
   "metadata": {},
   "outputs": [
    {
     "data": {
      "image/png": "[encoded data removed]",
      "text/plain": [
       "<Figure size 640x480 with 1 Axes>"
      ]
     },
     "metadata": {},
     "output_type": "display_data"
    }
   ],
   "source": [
    "from matplotlib import pyplot as plt\n",
    "\n",
    "data=[p_1.loc[(p_1['Reading_value']<12000)]['Reading_value'], p_2['Reading_value'], p_3['Reading_value']]\n",
    "\n",
    "plt.boxplot(data)\n",
    "\n",
    "plt.show()"
   ]
  },
  {
   "cell_type": "code",
   "execution_count": 74,
   "metadata": {},
   "outputs": [
    {
     "data": {
      "image/png": "[encoded data removed]",
      "text/plain": [
       "<Figure size 640x480 with 1 Axes>"
      ]
     },
     "metadata": {},
     "output_type": "display_data"
    }
   ],
   "source": [
    "from matplotlib import pyplot as plt\n",
    "\n",
    "data=[t_1.loc[(t_1['Reading_value']>-40)]['Reading_value'], t_2['Reading_value'], t_3['Reading_value']]\n",
    "\n",
    "plt.boxplot(data)\n",
    "\n",
    "plt.show()"
   ]
  },
  {
   "cell_type": "code",
   "execution_count": 75,
   "metadata": {},
   "outputs": [
    {
     "data": {
      "image/png": "[encoded data removed]",
      "text/plain": [
       "<Figure size 640x480 with 1 Axes>"
      ]
     },
     "metadata": {},
     "output_type": "display_data"
    }
   ],
   "source": [
    "from matplotlib import pyplot as plt\n",
    "\n",
    "data=[c_1.loc[(c_1['CO2_emission']>-40)]['CO2_emission'], c_2['CO2_emission'], c_3['CO2_emission']]\n",
    "\n",
    "plt.boxplot(data)\n",
    "\n",
    "plt.show()"
   ]
  },
  {
   "cell_type": "code",
   "execution_count": 76,
   "metadata": {},
   "outputs": [
    {
     "data": {
      "text/plain": [
       "<AxesSubplot:ylabel='Density'>"
      ]
     },
     "execution_count": 76,
     "metadata": {},
     "output_type": "execute_result"
    },
    {
     "data": {
      "image/png": "[encoded data removed]",
      "text/plain": [
       "<Figure size 640x480 with 1 Axes>"
      ]
     },
     "metadata": {},
     "output_type": "display_data"
    }
   ],
   "source": [
    "t_1['Reading_value'].plot(kind='kde')"
   ]
  },
  {
   "cell_type": "code",
   "execution_count": 77,
   "metadata": {},
   "outputs": [
    {
     "data": {
      "text/plain": [
       "<AxesSubplot:ylabel='Density'>"
      ]
     },
     "execution_count": 77,
     "metadata": {},
     "output_type": "execute_result"
    },
    {
     "data": {
      "image/png": "[encoded data removed]",
      "text/plain": [
       "<Figure size 640x480 with 1 Axes>"
      ]
     },
     "metadata": {},
     "output_type": "display_data"
    }
   ],
   "source": [
    "p_1['Reading_value'].plot(kind='kde')"
   ]
  },
  {
   "cell_type": "code",
   "execution_count": 78,
   "metadata": {},
   "outputs": [
    {
     "data": {
      "text/plain": [
       "<AxesSubplot:ylabel='Density'>"
      ]
     },
     "execution_count": 78,
     "metadata": {},
     "output_type": "execute_result"
    },
    {
     "data": {
      "image/png": "[encoded data removed]",
      "text/plain": [
       "<Figure size 640x480 with 1 Axes>"
      ]
     },
     "metadata": {},
     "output_type": "display_data"
    }
   ],
   "source": [
    "c_1['CO2_emission'].plot(kind='kde')"
   ]
  },
  {
   "attachments": {},
   "cell_type": "markdown",
   "metadata": {},
   "source": [
    "Build a density function"
   ]
  },
  {
   "attachments": {},
   "cell_type": "markdown",
   "metadata": {},
   "source": [
    "\n",
    "Information about max and min values for last three decades: in info file "
   ]
  },
  {
   "cell_type": "code",
   "execution_count": 79,
   "metadata": {},
   "outputs": [
    {
     "data": {
      "text/html": [
       "<div>\n",
       "<style scoped>\n",
       "    .dataframe tbody tr th:only-of-type {\n",
       "        vertical-align: middle;\n",
       "    }\n",
       "\n",
       "    .dataframe tbody tr th {\n",
       "        vertical-align: top;\n",
       "    }\n",
       "\n",
       "    .dataframe thead th {\n",
       "        text-align: right;\n",
       "    }\n",
       "</style>\n",
       "<table border=\"1\" class=\"dataframe\">\n",
       "  <thead>\n",
       "    <tr style=\"text-align: right;\">\n",
       "      <th></th>\n",
       "      <th>1992-2001(min-max)</th>\n",
       "      <th>2002-2011(min-max)</th>\n",
       "      <th>2012-2021(min-max)</th>\n",
       "    </tr>\n",
       "  </thead>\n",
       "  <tbody>\n",
       "    <tr>\n",
       "      <th>Temperature (C)</th>\n",
       "      <td>[-50.41, 33.33]</td>\n",
       "      <td>[-19.39, 32.32]</td>\n",
       "      <td>[-19.86, 30.69]</td>\n",
       "    </tr>\n",
       "    <tr>\n",
       "      <th>Percipitations (mm)</th>\n",
       "      <td>[0.0, 16173.0]</td>\n",
       "      <td>[0.0, 7870.4]</td>\n",
       "      <td>[0.0, 7976.4]</td>\n",
       "    </tr>\n",
       "    <tr>\n",
       "      <th>CO_2 (ppm)</th>\n",
       "      <td>[25668.049, 0.0]</td>\n",
       "      <td>[34487.012, 0.004]</td>\n",
       "      <td>[37123.852, 0.007]</td>\n",
       "    </tr>\n",
       "  </tbody>\n",
       "</table>\n",
       "</div>"
      ],
      "text/plain": [
       "                    1992-2001(min-max)  2002-2011(min-max)  2012-2021(min-max)\n",
       "Temperature (C)        [-50.41, 33.33]     [-19.39, 32.32]     [-19.86, 30.69]\n",
       "Percipitations (mm)     [0.0, 16173.0]       [0.0, 7870.4]       [0.0, 7976.4]\n",
       "CO_2 (ppm)            [25668.049, 0.0]  [34487.012, 0.004]  [37123.852, 0.007]"
      ]
     },
     "execution_count": 79,
     "metadata": {},
     "output_type": "execute_result"
    }
   ],
   "source": [
    "info=[{'1992-2001(min-max)': [t_1['Reading_value'].min(), t_1['Reading_value'].max()],\n",
    "        '2002-2011(min-max)': [t_2['Reading_value'].min(), t_2['Reading_value'].max()],\n",
    "        '2012-2021(min-max)': [t_3['Reading_value'].min(), t_3['Reading_value'].max()]},\n",
    "        {'1992-2001(min-max)': [p_1['Reading_value'].min(),p_1['Reading_value'].max()],\n",
    "        '2002-2011(min-max)': [p_2['Reading_value'].min(), p_2['Reading_value'].max()],\n",
    "        '2012-2021(min-max)': [p_3['Reading_value'].min(), p_3['Reading_value'].max()]},\n",
    "        {'1992-2001(min-max)': [c_1['CO2_emission'].max(), c_1['CO2_emission'].min()],\n",
    "        '2002-2011(min-max)': [c_2['CO2_emission'].max(), c_2['CO2_emission'].min()],\n",
    "        '2012-2021(min-max)': [c_3['CO2_emission'].max(), c_3['CO2_emission'].min()]}]\n",
    "\n",
    "info_df = pd.DataFrame(info, index=['Temperature (C)', 'Percipitations (mm)', 'CO_2 (ppm)'])\n",
    "\n",
    "info_df.head()\n"
   ]
  },
  {
   "cell_type": "code",
   "execution_count": 80,
   "metadata": {},
   "outputs": [],
   "source": [
    "info_df.to_csv('info.csv', index=False)"
   ]
  },
  {
   "cell_type": "code",
   "execution_count": 81,
   "metadata": {},
   "outputs": [],
   "source": [
    "info=info_df.to_json('info.json', orient='split')"
   ]
  },
  {
   "attachments": {},
   "cell_type": "markdown",
   "metadata": {},
   "source": [
    "Frequency distributions for temperature t_fr, precipitations p_fr and CO_2 level c_fr for last three decades: 1: 1992-2001, 2: 2002-2011, 3: 2011-2012"
   ]
  },
  {
   "cell_type": "code",
   "execution_count": 82,
   "metadata": {},
   "outputs": [
    {
     "name": "stdout",
     "output_type": "stream",
     "text": [
      "[1, 2, 5, 5, 6, 8, 7, 15, 27, 22, 38, 60, 64, 64, 59, 92, 76, 71, 82, 73, 75, 63, 75, 94, 85, 131, 124, 133, 150, 192, 194, 257, 273, 381, 436, 550, 658, 755, 922, 1159, 1388, 1602, 1806, 1969, 2156, 2164, 2408, 2537, 2635, 2762, 2949, 2938, 3153, 3341, 3711, 3608, 3195, 2833, 2423, 2101, 1915, 1881, 1772, 1696, 1795, 1856, 2045, 2004, 2081, 1992, 1862, 1741, 1424, 1305, 1139, 1055, 1011, 1019, 940, 1061, 1046, 1151, 1124, 1090, 901, 774, 725, 653, 477, 216, 105, 37, 12, 3, 1, 0, 0, 0, 2, 0]\n"
     ]
    }
   ],
   "source": [
    "t_fr1=[]\n",
    "t_fr2=[]\n",
    "t_fr3=[]\n",
    "\n",
    "for i in range(0,100):\n",
    "    a=-20+0.54*i\n",
    "    b=-19.46+0.54*i\n",
    "    t_fr1.append(t_1.loc[(t_1['Reading_value']>=a)&(t_1['Reading_value']<b)]['Reading_value'].count())\n",
    "    t_fr2.append(t_2.loc[(t_2['Reading_value']>=a)&(t_2['Reading_value']<b)]['Reading_value'].count())\n",
    "    t_fr3.append(t_3.loc[(t_3['Reading_value']>=a)&(t_3['Reading_value']<b)]['Reading_value'].count())\n",
    "print(t_fr1)\n"
   ]
  },
  {
   "cell_type": "code",
   "execution_count": 83,
   "metadata": {},
   "outputs": [
    {
     "name": "stdout",
     "output_type": "stream",
     "text": [
      "[5130, 389, 189, 189, 141, 87, 117, 42, 63, 57, 18, 18, 0, 0, 3, 6, 6, 6, 9, 0, 0, 0, 0, 18, 9, 3, 0, 0, 3, 3, 0, 3, 3, 0, 9, 0, 0, 6, 3, 0, 0, 0, 0, 0, 0, 0, 0, 0, 0, 0, 0, 0, 0, 0, 0, 0, 0, 0, 0, 0, 0, 0, 0, 0, 0, 0, 0, 3, 0, 0, 0, 3, 0, 0, 3, 6, 9, 0, 6, 0, 0, 0, 0, 0, 0, 0, 0, 0, 0, 0, 0, 0, 0, 0, 0, 0, 0, 0, 0, 0]\n"
     ]
    }
   ],
   "source": [
    "c_fr1=[]\n",
    "c_fr2=[]\n",
    "c_fr3=[]\n",
    "\n",
    "for i in range(0,7000,70):\n",
    "    a=i\n",
    "    b=i+70\n",
    "    c_fr1.append(c_1.loc[(c_1['CO2_emission']>=a)&(c_1['CO2_emission']<b)]['CO2_emission'].count())\n",
    "    c_fr2.append(c_2.loc[(c_2['CO2_emission']>=a)&(c_2['CO2_emission']<b)]['CO2_emission'].count())\n",
    "    c_fr3.append(c_3.loc[(c_3['CO2_emission']>=a)&(c_3['CO2_emission']<b)]['CO2_emission'].count())\n",
    "print(c_fr3)\n"
   ]
  },
  {
   "cell_type": "code",
   "execution_count": 84,
   "metadata": {},
   "outputs": [
    {
     "name": "stdout",
     "output_type": "stream",
     "text": [
      "[350, 313, 464, 656, 862, 1174, 1528, 1900, 2144, 2677, 3083, 3474, 3839, 4221, 4430, 4489, 4637, 4731, 4854, 5001, 5059, 5204, 5276, 5283, 5260, 5097, 5128, 4992, 4819, 4576, 4601, 4508, 4342, 4239, 4097, 3985, 3901, 3818, 3637, 3613, 3326, 3275, 3210, 3028, 2902, 2694, 2646, 2467, 2330, 2381, 2230, 2106, 1960, 1889, 1812, 1640, 1598, 1519, 1476, 1401, 1330, 1246, 1129, 1051, 947, 926, 806, 835, 726, 680, 612, 636, 592, 530, 491, 468, 432, 430, 333, 345, 337, 346, 320, 274, 259, 228, 221, 239, 216, 209, 199, 228, 177, 160, 182, 134, 160, 153, 140, 121]\n"
     ]
    }
   ],
   "source": [
    "p_fr1=[]\n",
    "p_fr2=[]\n",
    "p_fr3=[]\n",
    "\n",
    "for i in range(0,2500, 25):\n",
    "    a=i\n",
    "    b=i+25\n",
    "    p_fr1.append(p_1.loc[(p_1['Reading_value']>=a)&(p_1['Reading_value']<b)]['Reading_value'].count())\n",
    "    p_fr2.append(p_2.loc[(p_2['Reading_value']>=a)&(p_2['Reading_value']<b)]['Reading_value'].count())\n",
    "    p_fr3.append(p_3.loc[(p_3['Reading_value']>=a)&(p_3['Reading_value']<b)]['Reading_value'].count())\n",
    "print(p_fr1)\n"
   ]
  },
  {
   "attachments": {},
   "cell_type": "markdown",
   "metadata": {},
   "source": [
    "Creating json files for plotly graph in js"
   ]
  },
  {
   "cell_type": "code",
   "execution_count": 85,
   "metadata": {},
   "outputs": [],
   "source": [
    "# for temperature\n",
    "\n",
    "from numpy import False_\n",
    "\n",
    "\n",
    "data_temp=[{'decade':[], 'temp':[], 'freq':[]},\n",
    "            {'decade':[], 'temp':[], 'freq':[]}, \n",
    "            {'decade':[], 'temp':[], 'freq':[]}]\n",
    "for i in range(0,100):\n",
    "    data_temp[0]['decade'].append([2, 3])\n",
    "    data_temp[0]['temp'].append([-20+0.54*i, -20+0.54*i])\n",
    "    data_temp[0]['freq'].append([t_fr1[i],t_fr1[i]])\n",
    "    data_temp[1]['decade'].append([5, 6])\n",
    "    data_temp[1]['temp'].append([-20+0.54*i,-20+0.54*i])\n",
    "    data_temp[1]['freq'].append([t_fr2[i],t_fr2[i]])\n",
    "    data_temp[2]['decade'].append([8, 9])\n",
    "    data_temp[2]['temp'].append([-20+0.54*i, -20+0.54*i])\n",
    "    data_temp[2]['freq'].append([t_fr3[i],t_fr3[i]])\n",
    "#print(data)"
   ]
  },
  {
   "cell_type": "code",
   "execution_count": 86,
   "metadata": {},
   "outputs": [],
   "source": [
    "# for percipitations\n",
    "\n",
    "data_perp=[{'decade':[], 'percip':[], 'freq':[]},\n",
    "            {'decade':[], 'percip':[], 'freq':[]}, \n",
    "            {'decade':[], 'percip':[], 'freq':[]}]\n",
    "for i in range(0,100):\n",
    "    data_perp[0]['decade'].append([2, 3])\n",
    "    data_perp[0]['percip'].append([25*(i+1), 25*(i+1)])\n",
    "    data_perp[0]['freq'].append([p_fr1[i],p_fr1[i]])\n",
    "    data_perp[1]['decade'].append([5, 6])\n",
    "    data_perp[1]['percip'].append([25*(i+1), 25*(i+1)])\n",
    "    data_perp[1]['freq'].append([p_fr2[i],p_fr2[i]])\n",
    "    data_perp[2]['decade'].append([8, 9])\n",
    "    data_perp[2]['percip'].append([25*(i+1), 25*(i+1)])\n",
    "    data_perp[2]['freq'].append([p_fr3[i],p_fr3[i]])\n",
    "#print(data)"
   ]
  },
  {
   "cell_type": "code",
   "execution_count": 87,
   "metadata": {},
   "outputs": [],
   "source": [
    "# for CO_2\n",
    "\n",
    "data_co=[{'decade':[], 'co_2':[], 'freq':[]},\n",
    "        {'decade':[], 'co_2':[], 'freq':[]}, \n",
    "        {'decade':[], 'co_2':[], 'freq':[]}]\n",
    "for i in range(0,100):\n",
    "    data_co[0]['decade'].append([2, 3])\n",
    "    data_co[0]['co_2'].append([70*(i+1), 70*(i+1)])\n",
    "    data_co[0]['freq'].append([c_fr1[i], c_fr1[i]])\n",
    "    data_co[1]['decade'].append([5, 6])\n",
    "    data_co[1]['co_2'].append([70*(i+1), 70*(i+1)])\n",
    "    data_co[1]['freq'].append([c_fr2[i], c_fr2[i]])\n",
    "    data_co[2]['decade'].append([8, 9])\n",
    "    data_co[2]['co_2'].append([70*(i+1), 70*(i+1)])\n",
    "    data_co[2]['freq'].append([c_fr3[i], c_fr3[i]])\n",
    "#print(data)"
   ]
  },
  {
   "cell_type": "code",
   "execution_count": 88,
   "metadata": {},
   "outputs": [],
   "source": [
    "data_temp.append(data_perp[0])\n",
    "data_temp.append(data_perp[1])\n",
    "data_temp.append(data_perp[2])\n",
    "data_temp.append(data_co[0])\n",
    "data_temp.append(data_co[1])\n",
    "data_temp.append(data_co[2])"
   ]
  },
  {
   "cell_type": "code",
   "execution_count": 89,
   "metadata": {},
   "outputs": [],
   "source": [
    "class NumpyEncoder(json.JSONEncoder):\n",
    "    \"\"\" Custom encoder for numpy data types \"\"\"\n",
    "    def default(self, obj):\n",
    "        if isinstance(obj, (np.int_, np.intc, np.intp, np.int8,\n",
    "                            np.int16, np.int32, np.int64, np.uint8,\n",
    "                            np.uint16, np.uint32, np.uint64)):\n",
    "\n",
    "            return int(obj)\n",
    "\n",
    "        elif isinstance(obj, (np.float_, np.float16, np.float32, np.float64)):\n",
    "            return float(obj)\n",
    "\n",
    "        elif isinstance(obj, (np.complex_, np.complex64, np.complex128)):\n",
    "            return {'real': obj.real, 'imag': obj.imag}\n",
    "\n",
    "        elif isinstance(obj, (np.ndarray,)):\n",
    "            return obj.tolist()\n",
    "\n",
    "        elif isinstance(obj, (np.bool_)):\n",
    "            return bool(obj)\n",
    "\n",
    "        elif isinstance(obj, (np.void)): \n",
    "            return None\n",
    "\n",
    "        return json.JSONEncoder.default(self, obj)"
   ]
  },
  {
   "cell_type": "code",
   "execution_count": 90,
   "metadata": {},
   "outputs": [],
   "source": [
    "f = open('data_temp.txt', 'w')\n",
    "f.write(json.dumps(data_temp,cls=NumpyEncoder))\n",
    "f.close()"
   ]
  }
 ],
 "metadata": {
  "kernelspec": {
   "display_name": "base",
   "language": "python",
   "name": "python3"
  },
  "language_info": {
   "codemirror_mode": {
    "name": "ipython",
    "version": 3
   },
   "file_extension": ".py",
   "mimetype": "text/x-python",
   "name": "python",
   "nbconvert_exporter": "python",
   "pygments_lexer": "ipython3",
   "version": "3.9.13"
  },
  "orig_nbformat": 4
 },
 "nbformat": 4,
 "nbformat_minor": 2
}
